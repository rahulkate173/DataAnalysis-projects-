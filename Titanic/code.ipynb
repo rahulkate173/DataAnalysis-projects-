{
 "cells": [
  {
   "cell_type": "code",
   "execution_count": 1,
   "id": "40871724-d2af-4171-9e88-20d995234538",
   "metadata": {},
   "outputs": [],
   "source": [
    "import pandas as pd\n",
    "import numpy as np\n",
    "import matplotlib.pyplot as plt"
   ]
  },
  {
   "cell_type": "markdown",
   "id": "1859a139-13e6-4fb1-b02b-0d93c5a39e11",
   "metadata": {},
   "source": [
    "### Loading Dataset  "
   ]
  },
  {
   "cell_type": "code",
   "execution_count": 2,
   "id": "927c1357-b92a-486e-af0f-6c975710010c",
   "metadata": {},
   "outputs": [],
   "source": [
    "dftrain=pd.read_csv('train.csv')\n",
    "dftest=pd.read_csv('test.csv')\n",
    "dfgendermodel=pd.read_csv('gendermodel.csv')\n",
    "dfgenderclassmodel=pd.read_csv('genderclassmodel.csv')"
   ]
  },
  {
   "cell_type": "markdown",
   "id": "9c32b081-f2dd-44cf-b54e-646586ad9887",
   "metadata": {},
   "source": [
    "### Understanding Train.csv Dataframe And doing Some Cleaning "
   ]
  },
  {
   "cell_type": "code",
   "execution_count": 3,
   "id": "2de5c94a-bd54-4203-a984-1a0d86fe4895",
   "metadata": {},
   "outputs": [
    {
     "name": "stdout",
     "output_type": "stream",
     "text": [
      "<class 'pandas.core.frame.DataFrame'>\n",
      "RangeIndex: 891 entries, 0 to 890\n",
      "Data columns (total 12 columns):\n",
      " #   Column       Non-Null Count  Dtype  \n",
      "---  ------       --------------  -----  \n",
      " 0   PassengerId  891 non-null    int64  \n",
      " 1   Survived     891 non-null    int64  \n",
      " 2   Pclass       891 non-null    int64  \n",
      " 3   Name         891 non-null    object \n",
      " 4   Sex          891 non-null    object \n",
      " 5   Age          714 non-null    float64\n",
      " 6   SibSp        891 non-null    int64  \n",
      " 7   Parch        891 non-null    int64  \n",
      " 8   Ticket       891 non-null    object \n",
      " 9   Fare         891 non-null    float64\n",
      " 10  Cabin        204 non-null    object \n",
      " 11  Embarked     889 non-null    object \n",
      "dtypes: float64(2), int64(5), object(5)\n",
      "memory usage: 83.7+ KB\n"
     ]
    }
   ],
   "source": [
    "dftrain.info()"
   ]
  },
  {
   "cell_type": "code",
   "execution_count": 4,
   "id": "0c22fd74-f95e-4d0d-9048-3d8862edb392",
   "metadata": {},
   "outputs": [
    {
     "data": {
      "text/plain": [
       "[np.int64(0),\n",
       " np.int64(0),\n",
       " np.int64(0),\n",
       " np.int64(0),\n",
       " np.int64(0),\n",
       " np.int64(177),\n",
       " np.int64(0),\n",
       " np.int64(0),\n",
       " np.int64(0),\n",
       " np.int64(0),\n",
       " np.int64(687),\n",
       " np.int64(2)]"
      ]
     },
     "execution_count": 4,
     "metadata": {},
     "output_type": "execute_result"
    }
   ],
   "source": [
    "NULLList_Train=[]\n",
    "for column in dftrain.columns:\n",
    "    NULLList_Train.append(dftrain[column].isna().sum())\n",
    "NULLList_Train"
   ]
  },
  {
   "cell_type": "code",
   "execution_count": 5,
   "id": "6d273f50-6f9c-4c0b-8523-6becceead960",
   "metadata": {},
   "outputs": [
    {
     "data": {
      "text/plain": [
       "array([nan, 'C85', 'C123', 'E46', 'G6', 'C103', 'D56', 'A6',\n",
       "       'C23 C25 C27', 'B78', 'D33', 'B30', 'C52', 'B28', 'C83', 'F33',\n",
       "       'F G73', 'E31', 'A5', 'D10 D12', 'D26', 'C110', 'B58 B60', 'E101',\n",
       "       'F E69', 'D47', 'B86', 'F2', 'C2', 'E33', 'B19', 'A7', 'C49', 'F4',\n",
       "       'A32', 'B4', 'B80', 'A31', 'D36', 'D15', 'C93', 'C78', 'D35',\n",
       "       'C87', 'B77', 'E67', 'B94', 'C125', 'C99', 'C118', 'D7', 'A19',\n",
       "       'B49', 'D', 'C22 C26', 'C106', 'C65', 'E36', 'C54',\n",
       "       'B57 B59 B63 B66', 'C7', 'E34', 'C32', 'B18', 'C124', 'C91', 'E40',\n",
       "       'T', 'C128', 'D37', 'B35', 'E50', 'C82', 'B96 B98', 'E10', 'E44',\n",
       "       'A34', 'C104', 'C111', 'C92', 'E38', 'D21', 'E12', 'E63', 'A14',\n",
       "       'B37', 'C30', 'D20', 'B79', 'E25', 'D46', 'B73', 'C95', 'B38',\n",
       "       'B39', 'B22', 'C86', 'C70', 'A16', 'C101', 'C68', 'A10', 'E68',\n",
       "       'B41', 'A20', 'D19', 'D50', 'D9', 'A23', 'B50', 'A26', 'D48',\n",
       "       'E58', 'C126', 'B71', 'B51 B53 B55', 'D49', 'B5', 'B20', 'F G63',\n",
       "       'C62 C64', 'E24', 'C90', 'C45', 'E8', 'B101', 'D45', 'C46', 'D30',\n",
       "       'E121', 'D11', 'E77', 'F38', 'B3', 'D6', 'B82 B84', 'D17', 'A36',\n",
       "       'B102', 'B69', 'E49', 'C47', 'D28', 'E17', 'A24', 'C50', 'B42',\n",
       "       'C148'], dtype=object)"
      ]
     },
     "execution_count": 5,
     "metadata": {},
     "output_type": "execute_result"
    }
   ],
   "source": [
    "dftrain['Cabin'].unique()"
   ]
  },
  {
   "cell_type": "code",
   "execution_count": 6,
   "id": "c0691047-8564-402b-a6da-cb6b0a1a6e5d",
   "metadata": {},
   "outputs": [
    {
     "data": {
      "text/plain": [
       "np.int64(687)"
      ]
     },
     "execution_count": 6,
     "metadata": {},
     "output_type": "execute_result"
    }
   ],
   "source": [
    "dftrain['Cabin'].isna().sum()"
   ]
  },
  {
   "cell_type": "code",
   "execution_count": 7,
   "id": "54b89e51-4530-4312-92e4-ed53ff0e74a8",
   "metadata": {},
   "outputs": [],
   "source": [
    "import random\n",
    "import string\n",
    "def Replacing(x):\n",
    "    lstCharacter=list(string.ascii_uppercase)\n",
    "    if pd.isna(x):  \n",
    "        Randomvalue = random.randint(1, 500)\n",
    "        character = random.choice(lstCharacter)\n",
    "        return str(Randomvalue) + character  \n",
    "    return x  \n",
    "\n",
    "\n",
    "dftrain['Cabin'] = dftrain['Cabin'].apply(lambda x: Replacing(x))"
   ]
  },
  {
   "cell_type": "code",
   "execution_count": 8,
   "id": "643efc35-e70c-40a9-9e86-20416b618b65",
   "metadata": {},
   "outputs": [
    {
     "data": {
      "text/plain": [
       "np.int64(0)"
      ]
     },
     "execution_count": 8,
     "metadata": {},
     "output_type": "execute_result"
    }
   ],
   "source": [
    "dftrain['Cabin'].isna().sum()"
   ]
  },
  {
   "cell_type": "code",
   "execution_count": 9,
   "id": "004340ce-29f0-473a-97b4-a53dde89bbd5",
   "metadata": {},
   "outputs": [
    {
     "name": "stderr",
     "output_type": "stream",
     "text": [
      "C:\\Users\\Rahul\\AppData\\Local\\Temp\\ipykernel_7836\\204757661.py:1: FutureWarning: A value is trying to be set on a copy of a DataFrame or Series through chained assignment using an inplace method.\n",
      "The behavior will change in pandas 3.0. This inplace method will never work because the intermediate object on which we are setting values always behaves as a copy.\n",
      "\n",
      "For example, when doing 'df[col].method(value, inplace=True)', try using 'df.method({col: value}, inplace=True)' or df[col] = df[col].method(value) instead, to perform the operation inplace on the original object.\n",
      "\n",
      "\n",
      "  dftrain['Embarked'].fillna(method='ffill',inplace=True)\n",
      "C:\\Users\\Rahul\\AppData\\Local\\Temp\\ipykernel_7836\\204757661.py:1: FutureWarning: Series.fillna with 'method' is deprecated and will raise in a future version. Use obj.ffill() or obj.bfill() instead.\n",
      "  dftrain['Embarked'].fillna(method='ffill',inplace=True)\n"
     ]
    }
   ],
   "source": [
    "dftrain['Embarked'].fillna(method='ffill',inplace=True)"
   ]
  },
  {
   "cell_type": "code",
   "execution_count": 10,
   "id": "e1a2bb0b-192c-4920-8f5f-89c1ea156b41",
   "metadata": {},
   "outputs": [
    {
     "data": {
      "text/plain": [
       "np.int64(0)"
      ]
     },
     "execution_count": 10,
     "metadata": {},
     "output_type": "execute_result"
    }
   ],
   "source": [
    "dftrain['Embarked'].isna().sum()"
   ]
  },
  {
   "cell_type": "code",
   "execution_count": 11,
   "id": "f011d25c-77c8-463c-acf6-c0a804f7d1fe",
   "metadata": {},
   "outputs": [
    {
     "name": "stderr",
     "output_type": "stream",
     "text": [
      "C:\\Users\\Rahul\\AppData\\Local\\Temp\\ipykernel_7836\\4117977221.py:1: FutureWarning: A value is trying to be set on a copy of a DataFrame or Series through chained assignment using an inplace method.\n",
      "The behavior will change in pandas 3.0. This inplace method will never work because the intermediate object on which we are setting values always behaves as a copy.\n",
      "\n",
      "For example, when doing 'df[col].method(value, inplace=True)', try using 'df.method({col: value}, inplace=True)' or df[col] = df[col].method(value) instead, to perform the operation inplace on the original object.\n",
      "\n",
      "\n",
      "  dftrain['Age'].fillna(method='ffill',inplace=True)\n",
      "C:\\Users\\Rahul\\AppData\\Local\\Temp\\ipykernel_7836\\4117977221.py:1: FutureWarning: Series.fillna with 'method' is deprecated and will raise in a future version. Use obj.ffill() or obj.bfill() instead.\n",
      "  dftrain['Age'].fillna(method='ffill',inplace=True)\n"
     ]
    }
   ],
   "source": [
    "dftrain['Age'].fillna(method='ffill',inplace=True)"
   ]
  },
  {
   "cell_type": "code",
   "execution_count": 12,
   "id": "0d124d69-b64f-4ec9-8189-292f98965d1f",
   "metadata": {},
   "outputs": [
    {
     "data": {
      "text/plain": [
       "np.int64(0)"
      ]
     },
     "execution_count": 12,
     "metadata": {},
     "output_type": "execute_result"
    }
   ],
   "source": [
    "dftrain['Age'].isna().sum()"
   ]
  },
  {
   "cell_type": "code",
   "execution_count": 13,
   "id": "7d1447d9-a653-4aed-94ab-b3647754cde3",
   "metadata": {},
   "outputs": [
    {
     "name": "stdout",
     "output_type": "stream",
     "text": [
      "<class 'pandas.core.frame.DataFrame'>\n",
      "RangeIndex: 891 entries, 0 to 890\n",
      "Data columns (total 12 columns):\n",
      " #   Column       Non-Null Count  Dtype  \n",
      "---  ------       --------------  -----  \n",
      " 0   PassengerId  891 non-null    int64  \n",
      " 1   Survived     891 non-null    int64  \n",
      " 2   Pclass       891 non-null    int64  \n",
      " 3   Name         891 non-null    object \n",
      " 4   Sex          891 non-null    object \n",
      " 5   Age          891 non-null    float64\n",
      " 6   SibSp        891 non-null    int64  \n",
      " 7   Parch        891 non-null    int64  \n",
      " 8   Ticket       891 non-null    object \n",
      " 9   Fare         891 non-null    float64\n",
      " 10  Cabin        891 non-null    object \n",
      " 11  Embarked     891 non-null    object \n",
      "dtypes: float64(2), int64(5), object(5)\n",
      "memory usage: 83.7+ KB\n"
     ]
    }
   ],
   "source": [
    "dftrain.info()"
   ]
  },
  {
   "cell_type": "markdown",
   "id": "d0dcf3b7-a6d3-427d-92ff-f004e4929bdc",
   "metadata": {},
   "source": [
    "#### All Data of Train DataFrame is Now Cleaned Now Moving Toward Next"
   ]
  },
  {
   "cell_type": "code",
   "execution_count": 14,
   "id": "4860c7af-4dbc-45dc-89af-2f84759dafa2",
   "metadata": {},
   "outputs": [
    {
     "name": "stdout",
     "output_type": "stream",
     "text": [
      "<class 'pandas.core.frame.DataFrame'>\n",
      "RangeIndex: 418 entries, 0 to 417\n",
      "Data columns (total 11 columns):\n",
      " #   Column       Non-Null Count  Dtype  \n",
      "---  ------       --------------  -----  \n",
      " 0   PassengerId  418 non-null    int64  \n",
      " 1   Pclass       418 non-null    int64  \n",
      " 2   Name         418 non-null    object \n",
      " 3   Sex          418 non-null    object \n",
      " 4   Age          332 non-null    float64\n",
      " 5   SibSp        418 non-null    int64  \n",
      " 6   Parch        418 non-null    int64  \n",
      " 7   Ticket       418 non-null    object \n",
      " 8   Fare         417 non-null    float64\n",
      " 9   Cabin        91 non-null     object \n",
      " 10  Embarked     418 non-null    object \n",
      "dtypes: float64(2), int64(4), object(5)\n",
      "memory usage: 36.1+ KB\n"
     ]
    }
   ],
   "source": [
    "dftest.info()"
   ]
  },
  {
   "cell_type": "code",
   "execution_count": 15,
   "id": "57a0fa89-202d-4495-9291-51ea72063252",
   "metadata": {},
   "outputs": [],
   "source": [
    "import random\n",
    "import string\n",
    "def Replacing(x):\n",
    "    lstCharacter=list(string.ascii_uppercase)\n",
    "    if pd.isna(x):  \n",
    "        Randomvalue = random.randint(1, 500)\n",
    "        character = random.choice(lstCharacter)\n",
    "        return str(Randomvalue) + character  \n",
    "    return x  \n",
    "\n",
    "\n",
    "dftest['Cabin'] = dftest['Cabin'].apply(lambda x: Replacing(x))"
   ]
  },
  {
   "cell_type": "code",
   "execution_count": 16,
   "id": "ef43357c-cf16-499e-b8cd-043cae858233",
   "metadata": {},
   "outputs": [
    {
     "name": "stderr",
     "output_type": "stream",
     "text": [
      "C:\\Users\\Rahul\\AppData\\Local\\Temp\\ipykernel_7836\\1870566720.py:1: FutureWarning: A value is trying to be set on a copy of a DataFrame or Series through chained assignment using an inplace method.\n",
      "The behavior will change in pandas 3.0. This inplace method will never work because the intermediate object on which we are setting values always behaves as a copy.\n",
      "\n",
      "For example, when doing 'df[col].method(value, inplace=True)', try using 'df.method({col: value}, inplace=True)' or df[col] = df[col].method(value) instead, to perform the operation inplace on the original object.\n",
      "\n",
      "\n",
      "  dftest['Embarked'].fillna(method='ffill',inplace=True)\n",
      "C:\\Users\\Rahul\\AppData\\Local\\Temp\\ipykernel_7836\\1870566720.py:1: FutureWarning: Series.fillna with 'method' is deprecated and will raise in a future version. Use obj.ffill() or obj.bfill() instead.\n",
      "  dftest['Embarked'].fillna(method='ffill',inplace=True)\n"
     ]
    }
   ],
   "source": [
    "dftest['Embarked'].fillna(method='ffill',inplace=True)"
   ]
  },
  {
   "cell_type": "code",
   "execution_count": 17,
   "id": "0f00102f-670b-4c9c-be52-74be863154d2",
   "metadata": {},
   "outputs": [
    {
     "name": "stderr",
     "output_type": "stream",
     "text": [
      "C:\\Users\\Rahul\\AppData\\Local\\Temp\\ipykernel_7836\\2056748193.py:1: FutureWarning: A value is trying to be set on a copy of a DataFrame or Series through chained assignment using an inplace method.\n",
      "The behavior will change in pandas 3.0. This inplace method will never work because the intermediate object on which we are setting values always behaves as a copy.\n",
      "\n",
      "For example, when doing 'df[col].method(value, inplace=True)', try using 'df.method({col: value}, inplace=True)' or df[col] = df[col].method(value) instead, to perform the operation inplace on the original object.\n",
      "\n",
      "\n",
      "  dftest['Age'].fillna(method='ffill',inplace=True)\n",
      "C:\\Users\\Rahul\\AppData\\Local\\Temp\\ipykernel_7836\\2056748193.py:1: FutureWarning: Series.fillna with 'method' is deprecated and will raise in a future version. Use obj.ffill() or obj.bfill() instead.\n",
      "  dftest['Age'].fillna(method='ffill',inplace=True)\n"
     ]
    }
   ],
   "source": [
    "dftest['Age'].fillna(method='ffill',inplace=True)"
   ]
  },
  {
   "cell_type": "code",
   "execution_count": 18,
   "id": "83d3bffd-58d4-4afe-af48-30f153170f59",
   "metadata": {},
   "outputs": [
    {
     "name": "stdout",
     "output_type": "stream",
     "text": [
      "<class 'pandas.core.frame.DataFrame'>\n",
      "RangeIndex: 418 entries, 0 to 417\n",
      "Data columns (total 11 columns):\n",
      " #   Column       Non-Null Count  Dtype  \n",
      "---  ------       --------------  -----  \n",
      " 0   PassengerId  418 non-null    int64  \n",
      " 1   Pclass       418 non-null    int64  \n",
      " 2   Name         418 non-null    object \n",
      " 3   Sex          418 non-null    object \n",
      " 4   Age          418 non-null    float64\n",
      " 5   SibSp        418 non-null    int64  \n",
      " 6   Parch        418 non-null    int64  \n",
      " 7   Ticket       418 non-null    object \n",
      " 8   Fare         417 non-null    float64\n",
      " 9   Cabin        418 non-null    object \n",
      " 10  Embarked     418 non-null    object \n",
      "dtypes: float64(2), int64(4), object(5)\n",
      "memory usage: 36.1+ KB\n"
     ]
    }
   ],
   "source": [
    "dftest.info()"
   ]
  },
  {
   "cell_type": "code",
   "execution_count": 19,
   "id": "b442bcd1-a7e1-4b1e-9628-d2b20cf27f9a",
   "metadata": {},
   "outputs": [
    {
     "name": "stderr",
     "output_type": "stream",
     "text": [
      "C:\\Users\\Rahul\\AppData\\Local\\Temp\\ipykernel_7836\\4118965111.py:1: FutureWarning: A value is trying to be set on a copy of a DataFrame or Series through chained assignment using an inplace method.\n",
      "The behavior will change in pandas 3.0. This inplace method will never work because the intermediate object on which we are setting values always behaves as a copy.\n",
      "\n",
      "For example, when doing 'df[col].method(value, inplace=True)', try using 'df.method({col: value}, inplace=True)' or df[col] = df[col].method(value) instead, to perform the operation inplace on the original object.\n",
      "\n",
      "\n",
      "  dftest['Fare'].fillna(method='ffill',inplace=True)\n",
      "C:\\Users\\Rahul\\AppData\\Local\\Temp\\ipykernel_7836\\4118965111.py:1: FutureWarning: Series.fillna with 'method' is deprecated and will raise in a future version. Use obj.ffill() or obj.bfill() instead.\n",
      "  dftest['Fare'].fillna(method='ffill',inplace=True)\n"
     ]
    }
   ],
   "source": [
    "dftest['Fare'].fillna(method='ffill',inplace=True)"
   ]
  },
  {
   "cell_type": "code",
   "execution_count": 20,
   "id": "1068e51d-5771-4f96-8b6a-cecde95eb9c5",
   "metadata": {},
   "outputs": [
    {
     "name": "stdout",
     "output_type": "stream",
     "text": [
      "<class 'pandas.core.frame.DataFrame'>\n",
      "RangeIndex: 418 entries, 0 to 417\n",
      "Data columns (total 11 columns):\n",
      " #   Column       Non-Null Count  Dtype  \n",
      "---  ------       --------------  -----  \n",
      " 0   PassengerId  418 non-null    int64  \n",
      " 1   Pclass       418 non-null    int64  \n",
      " 2   Name         418 non-null    object \n",
      " 3   Sex          418 non-null    object \n",
      " 4   Age          418 non-null    float64\n",
      " 5   SibSp        418 non-null    int64  \n",
      " 6   Parch        418 non-null    int64  \n",
      " 7   Ticket       418 non-null    object \n",
      " 8   Fare         418 non-null    float64\n",
      " 9   Cabin        418 non-null    object \n",
      " 10  Embarked     418 non-null    object \n",
      "dtypes: float64(2), int64(4), object(5)\n",
      "memory usage: 36.1+ KB\n"
     ]
    }
   ],
   "source": [
    "dftest.info()"
   ]
  },
  {
   "cell_type": "markdown",
   "id": "6cd6f551-af7b-47ff-96d2-1ddf1d729222",
   "metadata": {},
   "source": [
    "#### Now the test Dataframe is also cleaned And ready for Work\n"
   ]
  },
  {
   "cell_type": "code",
   "execution_count": 21,
   "id": "cb9b09e2-cfa7-4179-bbd4-e5fd0b091ded",
   "metadata": {},
   "outputs": [
    {
     "name": "stdout",
     "output_type": "stream",
     "text": [
      "<class 'pandas.core.frame.DataFrame'>\n",
      "RangeIndex: 418 entries, 0 to 417\n",
      "Data columns (total 2 columns):\n",
      " #   Column       Non-Null Count  Dtype\n",
      "---  ------       --------------  -----\n",
      " 0   PassengerId  418 non-null    int64\n",
      " 1   Survived     418 non-null    int64\n",
      "dtypes: int64(2)\n",
      "memory usage: 6.7 KB\n"
     ]
    }
   ],
   "source": [
    "dfgendermodel.info()"
   ]
  },
  {
   "cell_type": "code",
   "execution_count": 22,
   "id": "ba967ac2-f4ac-4318-9968-970cafe0e88a",
   "metadata": {},
   "outputs": [
    {
     "data": {
      "text/plain": [
       "PassengerId    0\n",
       "Survived       0\n",
       "dtype: int64"
      ]
     },
     "execution_count": 22,
     "metadata": {},
     "output_type": "execute_result"
    }
   ],
   "source": [
    "dfgendermodel.isna().sum()"
   ]
  },
  {
   "cell_type": "markdown",
   "id": "1957e84d-11ad-498d-90af-dbbd3385c4cf",
   "metadata": {},
   "source": [
    "#### GenderModel DataFrame is Already Cleaned"
   ]
  },
  {
   "cell_type": "code",
   "execution_count": 23,
   "id": "114bd908-bd2f-4122-afdd-df595193a667",
   "metadata": {},
   "outputs": [
    {
     "name": "stdout",
     "output_type": "stream",
     "text": [
      "<class 'pandas.core.frame.DataFrame'>\n",
      "RangeIndex: 418 entries, 0 to 417\n",
      "Data columns (total 2 columns):\n",
      " #   Column       Non-Null Count  Dtype\n",
      "---  ------       --------------  -----\n",
      " 0   PassengerId  418 non-null    int64\n",
      " 1   Survived     418 non-null    int64\n",
      "dtypes: int64(2)\n",
      "memory usage: 6.7 KB\n"
     ]
    }
   ],
   "source": [
    "dfgenderclassmodel.info()"
   ]
  },
  {
   "cell_type": "code",
   "execution_count": 24,
   "id": "bd959be2-bb0b-473a-90a5-ede683c46b07",
   "metadata": {},
   "outputs": [
    {
     "data": {
      "text/plain": [
       "PassengerId    0\n",
       "Survived       0\n",
       "dtype: int64"
      ]
     },
     "execution_count": 24,
     "metadata": {},
     "output_type": "execute_result"
    }
   ],
   "source": [
    "dfgenderclassmodel.isna().sum()"
   ]
  },
  {
   "cell_type": "markdown",
   "id": "759667a6-f4fe-463f-8830-9d6898d4a91e",
   "metadata": {},
   "source": [
    "#### It is Also an Cleaned DataFrame "
   ]
  },
  {
   "cell_type": "markdown",
   "id": "2b5f02ef-32a1-4773-9014-5da0495f2740",
   "metadata": {},
   "source": [
    "### Handiling Categorical Encoding"
   ]
  },
  {
   "cell_type": "code",
   "execution_count": 25,
   "id": "df24a968-268d-49e2-8eee-5c133e03eaa9",
   "metadata": {},
   "outputs": [],
   "source": [
    "dftrain['Dummy_Sex']=pd.get_dummies(dftrain['Sex'],drop_first=True)"
   ]
  },
  {
   "cell_type": "code",
   "execution_count": 26,
   "id": "ea7092e0-1662-4651-801b-e3a8a50c5e99",
   "metadata": {},
   "outputs": [],
   "source": [
    "dftrain = pd.get_dummies(dftrain, columns=['Embarked'], drop_first=True)\n"
   ]
  },
  {
   "cell_type": "code",
   "execution_count": 27,
   "id": "34835cf9-3558-4257-be82-faff0764280d",
   "metadata": {},
   "outputs": [
    {
     "data": {
      "text/html": [
       "<div>\n",
       "<style scoped>\n",
       "    .dataframe tbody tr th:only-of-type {\n",
       "        vertical-align: middle;\n",
       "    }\n",
       "\n",
       "    .dataframe tbody tr th {\n",
       "        vertical-align: top;\n",
       "    }\n",
       "\n",
       "    .dataframe thead th {\n",
       "        text-align: right;\n",
       "    }\n",
       "</style>\n",
       "<table border=\"1\" class=\"dataframe\">\n",
       "  <thead>\n",
       "    <tr style=\"text-align: right;\">\n",
       "      <th></th>\n",
       "      <th>PassengerId</th>\n",
       "      <th>Survived</th>\n",
       "      <th>Pclass</th>\n",
       "      <th>Name</th>\n",
       "      <th>Sex</th>\n",
       "      <th>Age</th>\n",
       "      <th>SibSp</th>\n",
       "      <th>Parch</th>\n",
       "      <th>Ticket</th>\n",
       "      <th>Fare</th>\n",
       "      <th>Cabin</th>\n",
       "      <th>Dummy_Sex</th>\n",
       "      <th>Embarked_Q</th>\n",
       "      <th>Embarked_S</th>\n",
       "    </tr>\n",
       "  </thead>\n",
       "  <tbody>\n",
       "    <tr>\n",
       "      <th>0</th>\n",
       "      <td>1</td>\n",
       "      <td>0</td>\n",
       "      <td>3</td>\n",
       "      <td>Braund, Mr. Owen Harris</td>\n",
       "      <td>male</td>\n",
       "      <td>22.0</td>\n",
       "      <td>1</td>\n",
       "      <td>0</td>\n",
       "      <td>A/5 21171</td>\n",
       "      <td>7.2500</td>\n",
       "      <td>500R</td>\n",
       "      <td>True</td>\n",
       "      <td>False</td>\n",
       "      <td>True</td>\n",
       "    </tr>\n",
       "    <tr>\n",
       "      <th>1</th>\n",
       "      <td>2</td>\n",
       "      <td>1</td>\n",
       "      <td>1</td>\n",
       "      <td>Cumings, Mrs. John Bradley (Florence Briggs Th...</td>\n",
       "      <td>female</td>\n",
       "      <td>38.0</td>\n",
       "      <td>1</td>\n",
       "      <td>0</td>\n",
       "      <td>PC 17599</td>\n",
       "      <td>71.2833</td>\n",
       "      <td>C85</td>\n",
       "      <td>False</td>\n",
       "      <td>False</td>\n",
       "      <td>False</td>\n",
       "    </tr>\n",
       "    <tr>\n",
       "      <th>2</th>\n",
       "      <td>3</td>\n",
       "      <td>1</td>\n",
       "      <td>3</td>\n",
       "      <td>Heikkinen, Miss. Laina</td>\n",
       "      <td>female</td>\n",
       "      <td>26.0</td>\n",
       "      <td>0</td>\n",
       "      <td>0</td>\n",
       "      <td>STON/O2. 3101282</td>\n",
       "      <td>7.9250</td>\n",
       "      <td>407J</td>\n",
       "      <td>False</td>\n",
       "      <td>False</td>\n",
       "      <td>True</td>\n",
       "    </tr>\n",
       "    <tr>\n",
       "      <th>3</th>\n",
       "      <td>4</td>\n",
       "      <td>1</td>\n",
       "      <td>1</td>\n",
       "      <td>Futrelle, Mrs. Jacques Heath (Lily May Peel)</td>\n",
       "      <td>female</td>\n",
       "      <td>35.0</td>\n",
       "      <td>1</td>\n",
       "      <td>0</td>\n",
       "      <td>113803</td>\n",
       "      <td>53.1000</td>\n",
       "      <td>C123</td>\n",
       "      <td>False</td>\n",
       "      <td>False</td>\n",
       "      <td>True</td>\n",
       "    </tr>\n",
       "    <tr>\n",
       "      <th>4</th>\n",
       "      <td>5</td>\n",
       "      <td>0</td>\n",
       "      <td>3</td>\n",
       "      <td>Allen, Mr. William Henry</td>\n",
       "      <td>male</td>\n",
       "      <td>35.0</td>\n",
       "      <td>0</td>\n",
       "      <td>0</td>\n",
       "      <td>373450</td>\n",
       "      <td>8.0500</td>\n",
       "      <td>465I</td>\n",
       "      <td>True</td>\n",
       "      <td>False</td>\n",
       "      <td>True</td>\n",
       "    </tr>\n",
       "  </tbody>\n",
       "</table>\n",
       "</div>"
      ],
      "text/plain": [
       "   PassengerId  Survived  Pclass  \\\n",
       "0            1         0       3   \n",
       "1            2         1       1   \n",
       "2            3         1       3   \n",
       "3            4         1       1   \n",
       "4            5         0       3   \n",
       "\n",
       "                                                Name     Sex   Age  SibSp  \\\n",
       "0                            Braund, Mr. Owen Harris    male  22.0      1   \n",
       "1  Cumings, Mrs. John Bradley (Florence Briggs Th...  female  38.0      1   \n",
       "2                             Heikkinen, Miss. Laina  female  26.0      0   \n",
       "3       Futrelle, Mrs. Jacques Heath (Lily May Peel)  female  35.0      1   \n",
       "4                           Allen, Mr. William Henry    male  35.0      0   \n",
       "\n",
       "   Parch            Ticket     Fare Cabin  Dummy_Sex  Embarked_Q  Embarked_S  \n",
       "0      0         A/5 21171   7.2500  500R       True       False        True  \n",
       "1      0          PC 17599  71.2833   C85      False       False       False  \n",
       "2      0  STON/O2. 3101282   7.9250  407J      False       False        True  \n",
       "3      0            113803  53.1000  C123      False       False        True  \n",
       "4      0            373450   8.0500  465I       True       False        True  "
      ]
     },
     "execution_count": 27,
     "metadata": {},
     "output_type": "execute_result"
    }
   ],
   "source": [
    "dftrain.head()"
   ]
  },
  {
   "cell_type": "code",
   "execution_count": 28,
   "id": "c6fd0685-5dfd-478e-a92e-1143a3325d28",
   "metadata": {},
   "outputs": [
    {
     "data": {
      "text/html": [
       "<div>\n",
       "<style scoped>\n",
       "    .dataframe tbody tr th:only-of-type {\n",
       "        vertical-align: middle;\n",
       "    }\n",
       "\n",
       "    .dataframe tbody tr th {\n",
       "        vertical-align: top;\n",
       "    }\n",
       "\n",
       "    .dataframe thead th {\n",
       "        text-align: right;\n",
       "    }\n",
       "</style>\n",
       "<table border=\"1\" class=\"dataframe\">\n",
       "  <thead>\n",
       "    <tr style=\"text-align: right;\">\n",
       "      <th></th>\n",
       "      <th>PassengerId</th>\n",
       "      <th>Pclass</th>\n",
       "      <th>Name</th>\n",
       "      <th>Sex</th>\n",
       "      <th>Age</th>\n",
       "      <th>SibSp</th>\n",
       "      <th>Parch</th>\n",
       "      <th>Ticket</th>\n",
       "      <th>Fare</th>\n",
       "      <th>Cabin</th>\n",
       "      <th>Dummy_Sex</th>\n",
       "      <th>Embarked_Q</th>\n",
       "      <th>Embarked_S</th>\n",
       "    </tr>\n",
       "  </thead>\n",
       "  <tbody>\n",
       "    <tr>\n",
       "      <th>0</th>\n",
       "      <td>892</td>\n",
       "      <td>3</td>\n",
       "      <td>Kelly, Mr. James</td>\n",
       "      <td>male</td>\n",
       "      <td>34.5</td>\n",
       "      <td>0</td>\n",
       "      <td>0</td>\n",
       "      <td>330911</td>\n",
       "      <td>7.8292</td>\n",
       "      <td>221D</td>\n",
       "      <td>True</td>\n",
       "      <td>True</td>\n",
       "      <td>False</td>\n",
       "    </tr>\n",
       "    <tr>\n",
       "      <th>1</th>\n",
       "      <td>893</td>\n",
       "      <td>3</td>\n",
       "      <td>Wilkes, Mrs. James (Ellen Needs)</td>\n",
       "      <td>female</td>\n",
       "      <td>47.0</td>\n",
       "      <td>1</td>\n",
       "      <td>0</td>\n",
       "      <td>363272</td>\n",
       "      <td>7.0000</td>\n",
       "      <td>451Q</td>\n",
       "      <td>False</td>\n",
       "      <td>False</td>\n",
       "      <td>True</td>\n",
       "    </tr>\n",
       "    <tr>\n",
       "      <th>2</th>\n",
       "      <td>894</td>\n",
       "      <td>2</td>\n",
       "      <td>Myles, Mr. Thomas Francis</td>\n",
       "      <td>male</td>\n",
       "      <td>62.0</td>\n",
       "      <td>0</td>\n",
       "      <td>0</td>\n",
       "      <td>240276</td>\n",
       "      <td>9.6875</td>\n",
       "      <td>478F</td>\n",
       "      <td>True</td>\n",
       "      <td>True</td>\n",
       "      <td>False</td>\n",
       "    </tr>\n",
       "    <tr>\n",
       "      <th>3</th>\n",
       "      <td>895</td>\n",
       "      <td>3</td>\n",
       "      <td>Wirz, Mr. Albert</td>\n",
       "      <td>male</td>\n",
       "      <td>27.0</td>\n",
       "      <td>0</td>\n",
       "      <td>0</td>\n",
       "      <td>315154</td>\n",
       "      <td>8.6625</td>\n",
       "      <td>239V</td>\n",
       "      <td>True</td>\n",
       "      <td>False</td>\n",
       "      <td>True</td>\n",
       "    </tr>\n",
       "    <tr>\n",
       "      <th>4</th>\n",
       "      <td>896</td>\n",
       "      <td>3</td>\n",
       "      <td>Hirvonen, Mrs. Alexander (Helga E Lindqvist)</td>\n",
       "      <td>female</td>\n",
       "      <td>22.0</td>\n",
       "      <td>1</td>\n",
       "      <td>1</td>\n",
       "      <td>3101298</td>\n",
       "      <td>12.2875</td>\n",
       "      <td>180T</td>\n",
       "      <td>False</td>\n",
       "      <td>False</td>\n",
       "      <td>True</td>\n",
       "    </tr>\n",
       "  </tbody>\n",
       "</table>\n",
       "</div>"
      ],
      "text/plain": [
       "   PassengerId  Pclass                                          Name     Sex  \\\n",
       "0          892       3                              Kelly, Mr. James    male   \n",
       "1          893       3              Wilkes, Mrs. James (Ellen Needs)  female   \n",
       "2          894       2                     Myles, Mr. Thomas Francis    male   \n",
       "3          895       3                              Wirz, Mr. Albert    male   \n",
       "4          896       3  Hirvonen, Mrs. Alexander (Helga E Lindqvist)  female   \n",
       "\n",
       "    Age  SibSp  Parch   Ticket     Fare Cabin  Dummy_Sex  Embarked_Q  \\\n",
       "0  34.5      0      0   330911   7.8292  221D       True        True   \n",
       "1  47.0      1      0   363272   7.0000  451Q      False       False   \n",
       "2  62.0      0      0   240276   9.6875  478F       True        True   \n",
       "3  27.0      0      0   315154   8.6625  239V       True       False   \n",
       "4  22.0      1      1  3101298  12.2875  180T      False       False   \n",
       "\n",
       "   Embarked_S  \n",
       "0       False  \n",
       "1        True  \n",
       "2       False  \n",
       "3        True  \n",
       "4        True  "
      ]
     },
     "execution_count": 28,
     "metadata": {},
     "output_type": "execute_result"
    }
   ],
   "source": [
    "dftest['Dummy_Sex']=pd.get_dummies(dftest['Sex'],drop_first=True)\n",
    "dftest = pd.get_dummies(dftest, columns=['Embarked'], drop_first=True)\n",
    "dftest.head()"
   ]
  },
  {
   "cell_type": "markdown",
   "id": "3241d167-98f1-42db-a9b2-aa8be42a6bdb",
   "metadata": {},
   "source": [
    "### Feature Enginerring "
   ]
  },
  {
   "cell_type": "code",
   "execution_count": 29,
   "id": "78c8fc0c-a56a-490d-8ab7-414284a0e300",
   "metadata": {},
   "outputs": [],
   "source": [
    "dftrain['FamilySize']=dftrain['Parch']+dftrain['SibSp']+1"
   ]
  },
  {
   "cell_type": "code",
   "execution_count": 30,
   "id": "455a6960-5eb2-4fad-9992-b0b7de61a724",
   "metadata": {},
   "outputs": [],
   "source": [
    "dftest['FamilySize']=dftest['Parch']+dftest['SibSp']+1"
   ]
  },
  {
   "cell_type": "markdown",
   "id": "fe5645d4-7411-4f4d-a7ee-edf03f096f30",
   "metadata": {},
   "source": [
    "## Exploratory Data Analysis"
   ]
  },
  {
   "cell_type": "markdown",
   "id": "233e6c9a-281d-4ca6-9b6d-850425732e84",
   "metadata": {},
   "source": [
    "#### 1. Survival Rate Analysis"
   ]
  },
  {
   "cell_type": "code",
   "execution_count": 31,
   "id": "69a00e56-cada-4aba-8e91-95b16f87c645",
   "metadata": {},
   "outputs": [
    {
     "data": {
      "image/png": "[encoded data removed]",
      "text/plain": [
       "<Figure size 640x480 with 1 Axes>"
      ]
     },
     "metadata": {},
     "output_type": "display_data"
    }
   ],
   "source": [
    "NonSurvivedPassenger=(dfgendermodel['Survived']==0).sum()\n",
    "SurvivedPassanger=(dfgendermodel['Survived']==1).sum()\n",
    "PeopleSurvived=(SurvivedPassanger/418)*100\n",
    "peopleNotSurvived=(NonSurvivedPassenger/418)*100\n",
    "plt.pie([PeopleSurvived,peopleNotSurvived],labels=['People Survived','People Not Survived'],autopct=\"%1.1f%%\")\n",
    "plt.title(\"Overall Survival Rate\")\n",
    "plt.tight_layout()"
   ]
  },
  {
   "cell_type": "code",
   "execution_count": 32,
   "id": "eeab441f-2a1c-41cb-b7c3-5c2c6b6324c4",
   "metadata": {},
   "outputs": [
    {
     "data": {
      "text/plain": [
       "0       True\n",
       "1      False\n",
       "2       True\n",
       "3       True\n",
       "4      False\n",
       "       ...  \n",
       "413     True\n",
       "414    False\n",
       "415     True\n",
       "416     True\n",
       "417     True\n",
       "Name: Survived, Length: 418, dtype: bool"
      ]
     },
     "execution_count": 32,
     "metadata": {},
     "output_type": "execute_result"
    }
   ],
   "source": [
    "NotSurvived=(dfgendermodel['Survived']==0)\n",
    "NotSurvived"
   ]
  },
  {
   "cell_type": "code",
   "execution_count": 33,
   "id": "e9b10568-658a-46e1-b33c-450f439be5f7",
   "metadata": {},
   "outputs": [
    {
     "data": {
      "text/plain": [
       "Sex\n",
       "male    266\n",
       "Name: count, dtype: int64"
      ]
     },
     "execution_count": 33,
     "metadata": {},
     "output_type": "execute_result"
    }
   ],
   "source": [
    "dftest['Sex'].loc[NotSurvived].value_counts()"
   ]
  },
  {
   "cell_type": "code",
   "execution_count": 34,
   "id": "cae63ccd-f129-4bda-ad6b-84053919b393",
   "metadata": {},
   "outputs": [
    {
     "data": {
      "text/plain": [
       "Sex\n",
       "female    152\n",
       "Name: count, dtype: int64"
      ]
     },
     "execution_count": 34,
     "metadata": {},
     "output_type": "execute_result"
    }
   ],
   "source": [
    "Survived=(dfgendermodel['Survived']==1)\n",
    "dftest['Sex'].loc[Survived].value_counts()"
   ]
  },
  {
   "cell_type": "code",
   "execution_count": 35,
   "id": "6203e069-c80a-47f2-a724-2324199349f2",
   "metadata": {},
   "outputs": [],
   "source": [
    "SrvivalRateByGender={'Male':{'Survived':0,'NotSurvived':266},'Female':{'Survived':152,'Not Survived':0}}"
   ]
  },
  {
   "cell_type": "code",
   "execution_count": 36,
   "id": "a1f6cb2c-3e5e-40b8-af4c-903febabb3b6",
   "metadata": {},
   "outputs": [],
   "source": [
    "PclassSurvive=dftest['Pclass'].loc[Survived].value_counts()\n",
    "PclassNotSurvived=dftest['Pclass'].loc[NotSurvived].value_counts()"
   ]
  },
  {
   "cell_type": "code",
   "execution_count": 37,
   "id": "12bc3f7c-045e-4a82-a111-b7304d4f2650",
   "metadata": {},
   "outputs": [],
   "source": [
    "PassengerClassSurvivalrate={'Survived':{'FirstClass':PclassSurvive[1],'SecondClass':PclassSurvive[2],'ThirdClass':PclassSurvive[3]},\n",
    "                            'Not Survives':{'FirstClass':PclassNotSurvived[1],'SecondClass':PclassNotSurvived[2],'ThirdClass':PclassNotSurvived[3]}}\n",
    "\n"
   ]
  },
  {
   "cell_type": "code",
   "execution_count": 38,
   "id": "82e60138-177d-4e28-9c20-1db30ef06aec",
   "metadata": {},
   "outputs": [],
   "source": [
    "AgeSurvivedCount=dftest['Age'].loc[Survived].value_counts()"
   ]
  },
  {
   "cell_type": "code",
   "execution_count": 39,
   "id": "41b77cc3-5ef0-424a-8d30-3d689c9fa229",
   "metadata": {},
   "outputs": [
    {
     "data": {
      "text/plain": [
       "count\n",
       "True    52\n",
       "Name: count, dtype: int64"
      ]
     },
     "execution_count": 39,
     "metadata": {},
     "output_type": "execute_result"
    }
   ],
   "source": [
    "(AgeSurvivedCount<=18).value_counts()"
   ]
  },
  {
   "cell_type": "code",
   "execution_count": 41,
   "id": "4ffa8bb7-8163-409c-b02a-f7f9c285dd1d",
   "metadata": {},
   "outputs": [],
   "source": [
    "NumberOfChildernSurvived=AgeSurvivedCount.loc[(AgeSurvivedCount.index<=18.00)]\n",
    "NumberOfAdultSurvive=AgeSurvivedCount.loc[(AgeSurvivedCount.index>18.00)]"
   ]
  },
  {
   "cell_type": "markdown",
   "id": "75987697-09d9-4c69-a333-5a8589e71f66",
   "metadata": {},
   "source": [
    "### 2. Age Distribution "
   ]
  },
  {
   "cell_type": "code",
   "execution_count": 48,
   "id": "f0184354-599a-494f-a492-58cf9075a77d",
   "metadata": {},
   "outputs": [
    {
     "data": {
      "text/plain": [
       "0      34.5\n",
       "1      47.0\n",
       "2      62.0\n",
       "3      27.0\n",
       "4      22.0\n",
       "       ... \n",
       "413    28.0\n",
       "414    39.0\n",
       "415    38.5\n",
       "416    38.5\n",
       "417    38.5\n",
       "Name: Age, Length: 418, dtype: float64"
      ]
     },
     "execution_count": 48,
     "metadata": {},
     "output_type": "execute_result"
    }
   ],
   "source": [
    "DataAge=dftest['Age']\n",
    "DataAge"
   ]
  },
  {
   "cell_type": "code",
   "execution_count": 53,
   "id": "0b5cea13-6115-411e-97fb-94acd3fef023",
   "metadata": {},
   "outputs": [
    {
     "data": {
      "image/png": "[encoded data removed]",
      "text/plain": [
       "<Figure size 640x480 with 1 Axes>"
      ]
     },
     "metadata": {},
     "output_type": "display_data"
    }
   ],
   "source": [
    "import seaborn as sns\n",
    "sns.histplot(DataAge,bins=21)\n",
    "plt.title('Age\\'s of Passanger')\n",
    "plt.xlabel('Age')\n",
    "plt.ylabel('Quantity')\n",
    "plt.tight_layout()"
   ]
  },
  {
   "cell_type": "code",
   "execution_count": 50,
   "id": "db98f870-8948-4f04-a2fb-584e8f7dcc7d",
   "metadata": {},
   "outputs": [
    {
     "data": {
      "text/plain": [
       "np.float64(30.125)"
      ]
     },
     "execution_count": 50,
     "metadata": {},
     "output_type": "execute_result"
    }
   ],
   "source": [
    "DataAge.mean()"
   ]
  },
  {
   "cell_type": "code",
   "execution_count": 51,
   "id": "43c3226c-6dae-470d-9323-2938989dd6ea",
   "metadata": {},
   "outputs": [
    {
     "data": {
      "text/plain": [
       "np.float64(27.0)"
      ]
     },
     "execution_count": 51,
     "metadata": {},
     "output_type": "execute_result"
    }
   ],
   "source": [
    "DataAge.median()"
   ]
  },
  {
   "cell_type": "markdown",
   "id": "85696462-9ca3-489e-8187-3a63d601ed33",
   "metadata": {},
   "source": [
    "### 3.Fare Analysis"
   ]
  },
  {
   "cell_type": "code",
   "execution_count": 55,
   "id": "44183c25-3456-461c-9043-68f75e4672f7",
   "metadata": {},
   "outputs": [],
   "source": [
    "Fare=dftest['Fare']"
   ]
  },
  {
   "cell_type": "code",
   "execution_count": 56,
   "id": "ad6bdca4-9fee-40de-a774-974776b3187a",
   "metadata": {},
   "outputs": [
    {
     "data": {
      "text/plain": [
       "343    512.3292\n",
       "Name: Fare, dtype: float64"
      ]
     },
     "execution_count": 56,
     "metadata": {},
     "output_type": "execute_result"
    }
   ],
   "source": [
    "Fare.nlargest(1)"
   ]
  },
  {
   "cell_type": "code",
   "execution_count": 57,
   "id": "bf793067-7205-4334-9362-aab1c26a976e",
   "metadata": {},
   "outputs": [
    {
     "data": {
      "text/plain": [
       "266    0.0\n",
       "Name: Fare, dtype: float64"
      ]
     },
     "execution_count": 57,
     "metadata": {},
     "output_type": "execute_result"
    }
   ],
   "source": [
    "Fare.nsmallest(1)"
   ]
  },
  {
   "cell_type": "code",
   "execution_count": 64,
   "id": "708f39f9-8f82-4f89-8b20-8d4982df8f7b",
   "metadata": {},
   "outputs": [
    {
     "data": {
      "text/plain": [
       "Text(0.5, 1.0, 'Fare v/s Class')"
      ]
     },
     "execution_count": 64,
     "metadata": {},
     "output_type": "execute_result"
    },
    {
     "data": {
      "image/png": "[encoded data removed]",
      "text/plain": [
       "<Figure size 640x480 with 1 Axes>"
      ]
     },
     "metadata": {},
     "output_type": "display_data"
    }
   ],
   "source": [
    "sns.boxplot(x='Pclass',y='Fare',data=dftest)\n",
    "plt.title('Fare v/s Class')"
   ]
  },
  {
   "cell_type": "markdown",
   "id": "0a737770-92cd-4282-952d-c22ffda09773",
   "metadata": {},
   "source": [
    "### 4.Correlation"
   ]
  },
  {
   "cell_type": "code",
   "execution_count": 65,
   "id": "dcaecb2c-94f5-4dca-8790-48a19792f40e",
   "metadata": {},
   "outputs": [
    {
     "name": "stdout",
     "output_type": "stream",
     "text": [
      "<class 'pandas.core.frame.DataFrame'>\n",
      "RangeIndex: 418 entries, 0 to 417\n",
      "Data columns (total 14 columns):\n",
      " #   Column       Non-Null Count  Dtype  \n",
      "---  ------       --------------  -----  \n",
      " 0   PassengerId  418 non-null    int64  \n",
      " 1   Pclass       418 non-null    int64  \n",
      " 2   Name         418 non-null    object \n",
      " 3   Sex          418 non-null    object \n",
      " 4   Age          418 non-null    float64\n",
      " 5   SibSp        418 non-null    int64  \n",
      " 6   Parch        418 non-null    int64  \n",
      " 7   Ticket       418 non-null    object \n",
      " 8   Fare         418 non-null    float64\n",
      " 9   Cabin        418 non-null    object \n",
      " 10  Dummy_Sex    418 non-null    bool   \n",
      " 11  Embarked_Q   418 non-null    bool   \n",
      " 12  Embarked_S   418 non-null    bool   \n",
      " 13  FamilySize   418 non-null    int64  \n",
      "dtypes: bool(3), float64(2), int64(5), object(4)\n",
      "memory usage: 37.3+ KB\n"
     ]
    }
   ],
   "source": [
    "dftest.info()"
   ]
  },
  {
   "cell_type": "code",
   "execution_count": 66,
   "id": "b2054355-0b24-41e7-880b-0426030bf3dd",
   "metadata": {},
   "outputs": [],
   "source": [
    "correlation_matrix=dftest.corr(numeric_only=True)"
   ]
  },
  {
   "cell_type": "code",
   "execution_count": 68,
   "id": "b38fed4a-f91e-4238-af1c-0424b08069ac",
   "metadata": {},
   "outputs": [
    {
     "data": {
      "text/plain": [
       "Text(0.5, 1.0, 'Feature Correlation Heatmap')"
      ]
     },
     "execution_count": 68,
     "metadata": {},
     "output_type": "execute_result"
    },
    {
     "data": {
      "image/png": "[encoded data removed]",
      "text/plain": [
       "<Figure size 640x480 with 2 Axes>"
      ]
     },
     "metadata": {},
     "output_type": "display_data"
    }
   ],
   "source": [
    "sns.heatmap(correlation_matrix, annot=True, cmap='coolwarm', fmt=\".2f\", linewidths=0.5)\n",
    "plt.title(\"Feature Correlation Heatmap\")"
   ]
  },
  {
   "cell_type": "markdown",
   "id": "23a68298-30d1-4f50-8c81-8e9de5c7a088",
   "metadata": {},
   "source": [
    "#### Here All the visulation task is done\n"
   ]
  },
  {
   "cell_type": "markdown",
   "id": "56559622-5bdf-46ba-ad84-d5980c48d1ff",
   "metadata": {},
   "source": [
    "#### Now the futher task is related to machine learning which till now i am not familier so after completing that i will do this futher "
   ]
  },
  {
   "cell_type": "code",
   "execution_count": null,
   "id": "e40ffd9f-28f6-4fb4-af7a-c71e88dde96d",
   "metadata": {},
   "outputs": [],
   "source": []
  }
 ],
 "metadata": {
  "kernelspec": {
   "display_name": "Python 3 (ipykernel)",
   "language": "python",
   "name": "python3"
  },
  "language_info": {
   "codemirror_mode": {
    "name": "ipython",
    "version": 3
   },
   "file_extension": ".py",
   "mimetype": "text/x-python",
   "name": "python",
   "nbconvert_exporter": "python",
   "pygments_lexer": "ipython3",
   "version": "3.12.5"
  }
 },
 "nbformat": 4,
 "nbformat_minor": 5
}
