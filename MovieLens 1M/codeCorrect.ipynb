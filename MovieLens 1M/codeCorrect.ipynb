{
 "cells": [
  {
   "cell_type": "code",
   "execution_count": 1,
   "id": "1f739eba-447f-414f-b47d-4c9af6e61910",
   "metadata": {},
   "outputs": [],
   "source": [
    "import pandas as pd\n",
    "import numpy as np\n",
    "import matplotlib.pyplot as plt\n",
    "import seaborn as sns\n",
    "df=pd.read_table('moviesdat.dat')"
   ]
  },
  {
   "cell_type": "code",
   "execution_count": 2,
   "id": "59a1901e-1e1d-449e-990d-19dc468b7cc1",
   "metadata": {},
   "outputs": [
    {
     "data": {
      "text/html": [
       "<div>\n",
       "<style scoped>\n",
       "    .dataframe tbody tr th:only-of-type {\n",
       "        vertical-align: middle;\n",
       "    }\n",
       "\n",
       "    .dataframe tbody tr th {\n",
       "        vertical-align: top;\n",
       "    }\n",
       "\n",
       "    .dataframe thead th {\n",
       "        text-align: right;\n",
       "    }\n",
       "</style>\n",
       "<table border=\"1\" class=\"dataframe\">\n",
       "  <thead>\n",
       "    <tr style=\"text-align: right;\">\n",
       "      <th></th>\n",
       "      <th>1::Toy Story (1995)::Animation|Children's|Comedy</th>\n",
       "    </tr>\n",
       "  </thead>\n",
       "  <tbody>\n",
       "    <tr>\n",
       "      <th>0</th>\n",
       "      <td>2::Jumanji (1995)::Adventure|Children's|Fantasy</td>\n",
       "    </tr>\n",
       "    <tr>\n",
       "      <th>1</th>\n",
       "      <td>3::Grumpier Old Men (1995)::Comedy|Romance</td>\n",
       "    </tr>\n",
       "    <tr>\n",
       "      <th>2</th>\n",
       "      <td>4::Waiting to Exhale (1995)::Comedy|Drama</td>\n",
       "    </tr>\n",
       "    <tr>\n",
       "      <th>3</th>\n",
       "      <td>5::Father of the Bride Part II (1995)::Comedy</td>\n",
       "    </tr>\n",
       "    <tr>\n",
       "      <th>4</th>\n",
       "      <td>6::Heat (1995)::Action|Crime|Thriller</td>\n",
       "    </tr>\n",
       "  </tbody>\n",
       "</table>\n",
       "</div>"
      ],
      "text/plain": [
       "  1::Toy Story (1995)::Animation|Children's|Comedy\n",
       "0  2::Jumanji (1995)::Adventure|Children's|Fantasy\n",
       "1       3::Grumpier Old Men (1995)::Comedy|Romance\n",
       "2        4::Waiting to Exhale (1995)::Comedy|Drama\n",
       "3    5::Father of the Bride Part II (1995)::Comedy\n",
       "4            6::Heat (1995)::Action|Crime|Thriller"
      ]
     },
     "execution_count": 2,
     "metadata": {},
     "output_type": "execute_result"
    }
   ],
   "source": [
    "df.head()"
   ]
  },
  {
   "cell_type": "code",
   "execution_count": 3,
   "id": "2135d27b-39e4-42b1-a077-46dbecc78944",
   "metadata": {},
   "outputs": [],
   "source": [
    "first_value=df.columns[0]"
   ]
  },
  {
   "cell_type": "code",
   "execution_count": 4,
   "id": "47be9604-108f-4ae3-91e7-84979b6ca151",
   "metadata": {},
   "outputs": [],
   "source": [
    "def Spliting(x):\n",
    "    return x.split(\"::\")\n",
    "df[['Index','Movie','Category']]=df[\"1::Toy Story (1995)::Animation|Children's|Comedy\"].apply(lambda x: pd.Series(Spliting(x)))"
   ]
  },
  {
   "cell_type": "code",
   "execution_count": 5,
   "id": "cec2e5c4-2464-40e0-bb29-995cdf70ae6a",
   "metadata": {},
   "outputs": [
    {
     "data": {
      "text/plain": [
       "str"
      ]
     },
     "execution_count": 5,
     "metadata": {},
     "output_type": "execute_result"
    }
   ],
   "source": [
    "type(df.loc[0,df.columns[0]])"
   ]
  },
  {
   "cell_type": "code",
   "execution_count": 6,
   "id": "e2aa5682-5c61-4997-869a-7b9784658b5d",
   "metadata": {},
   "outputs": [],
   "source": [
    "df.drop(df.columns[0],axis=1,inplace=True)"
   ]
  },
  {
   "cell_type": "code",
   "execution_count": 7,
   "id": "825b7f31-8f6c-4f0b-a149-6309dbdf61f9",
   "metadata": {},
   "outputs": [],
   "source": [
    "df.drop(df.columns[0],axis=1,inplace=True)"
   ]
  },
  {
   "cell_type": "code",
   "execution_count": 8,
   "id": "25839346-e0fe-4268-8eaf-e4028881da42",
   "metadata": {},
   "outputs": [
    {
     "data": {
      "text/html": [
       "<div>\n",
       "<style scoped>\n",
       "    .dataframe tbody tr th:only-of-type {\n",
       "        vertical-align: middle;\n",
       "    }\n",
       "\n",
       "    .dataframe tbody tr th {\n",
       "        vertical-align: top;\n",
       "    }\n",
       "\n",
       "    .dataframe thead th {\n",
       "        text-align: right;\n",
       "    }\n",
       "</style>\n",
       "<table border=\"1\" class=\"dataframe\">\n",
       "  <thead>\n",
       "    <tr style=\"text-align: right;\">\n",
       "      <th></th>\n",
       "      <th>Movie</th>\n",
       "      <th>Category</th>\n",
       "    </tr>\n",
       "  </thead>\n",
       "  <tbody>\n",
       "    <tr>\n",
       "      <th>0</th>\n",
       "      <td>Jumanji (1995)</td>\n",
       "      <td>Adventure|Children's|Fantasy</td>\n",
       "    </tr>\n",
       "    <tr>\n",
       "      <th>1</th>\n",
       "      <td>Grumpier Old Men (1995)</td>\n",
       "      <td>Comedy|Romance</td>\n",
       "    </tr>\n",
       "    <tr>\n",
       "      <th>2</th>\n",
       "      <td>Waiting to Exhale (1995)</td>\n",
       "      <td>Comedy|Drama</td>\n",
       "    </tr>\n",
       "    <tr>\n",
       "      <th>3</th>\n",
       "      <td>Father of the Bride Part II (1995)</td>\n",
       "      <td>Comedy</td>\n",
       "    </tr>\n",
       "    <tr>\n",
       "      <th>4</th>\n",
       "      <td>Heat (1995)</td>\n",
       "      <td>Action|Crime|Thriller</td>\n",
       "    </tr>\n",
       "    <tr>\n",
       "      <th>...</th>\n",
       "      <td>...</td>\n",
       "      <td>...</td>\n",
       "    </tr>\n",
       "    <tr>\n",
       "      <th>3877</th>\n",
       "      <td>Meet the Parents (2000)</td>\n",
       "      <td>Comedy</td>\n",
       "    </tr>\n",
       "    <tr>\n",
       "      <th>3878</th>\n",
       "      <td>Requiem for a Dream (2000)</td>\n",
       "      <td>Drama</td>\n",
       "    </tr>\n",
       "    <tr>\n",
       "      <th>3879</th>\n",
       "      <td>Tigerland (2000)</td>\n",
       "      <td>Drama</td>\n",
       "    </tr>\n",
       "    <tr>\n",
       "      <th>3880</th>\n",
       "      <td>Two Family House (2000)</td>\n",
       "      <td>Drama</td>\n",
       "    </tr>\n",
       "    <tr>\n",
       "      <th>3881</th>\n",
       "      <td>Contender, The (2000)</td>\n",
       "      <td>Drama|Thriller</td>\n",
       "    </tr>\n",
       "  </tbody>\n",
       "</table>\n",
       "<p>3882 rows × 2 columns</p>\n",
       "</div>"
      ],
      "text/plain": [
       "                                   Movie                      Category\n",
       "0                         Jumanji (1995)  Adventure|Children's|Fantasy\n",
       "1                Grumpier Old Men (1995)                Comedy|Romance\n",
       "2               Waiting to Exhale (1995)                  Comedy|Drama\n",
       "3     Father of the Bride Part II (1995)                        Comedy\n",
       "4                            Heat (1995)         Action|Crime|Thriller\n",
       "...                                  ...                           ...\n",
       "3877             Meet the Parents (2000)                        Comedy\n",
       "3878          Requiem for a Dream (2000)                         Drama\n",
       "3879                    Tigerland (2000)                         Drama\n",
       "3880             Two Family House (2000)                         Drama\n",
       "3881               Contender, The (2000)                Drama|Thriller\n",
       "\n",
       "[3882 rows x 2 columns]"
      ]
     },
     "execution_count": 8,
     "metadata": {},
     "output_type": "execute_result"
    }
   ],
   "source": [
    "df"
   ]
  },
  {
   "cell_type": "markdown",
   "id": "3ddc4b42-1b35-45e3-8f2d-a447a2e25a21",
   "metadata": {},
   "source": [
    "### Finally Data is properly arranged now"
   ]
  },
  {
   "cell_type": "code",
   "execution_count": 9,
   "id": "e492282d-df80-4e3b-9127-c17ec045f4ee",
   "metadata": {},
   "outputs": [
    {
     "name": "stdout",
     "output_type": "stream",
     "text": [
      "<class 'pandas.core.frame.DataFrame'>\n",
      "RangeIndex: 3882 entries, 0 to 3881\n",
      "Data columns (total 2 columns):\n",
      " #   Column    Non-Null Count  Dtype \n",
      "---  ------    --------------  ----- \n",
      " 0   Movie     3882 non-null   object\n",
      " 1   Category  3882 non-null   object\n",
      "dtypes: object(2)\n",
      "memory usage: 60.8+ KB\n"
     ]
    }
   ],
   "source": [
    "df.info()"
   ]
  },
  {
   "cell_type": "code",
   "execution_count": 10,
   "id": "ccc891f1-20bb-40f1-b022-a3b5ebbbfc56",
   "metadata": {},
   "outputs": [
    {
     "data": {
      "text/plain": [
       "Movie\n",
       "False    3882\n",
       "Name: count, dtype: int64"
      ]
     },
     "execution_count": 10,
     "metadata": {},
     "output_type": "execute_result"
    }
   ],
   "source": [
    "df['Movie'].isna().value_counts()"
   ]
  },
  {
   "cell_type": "code",
   "execution_count": 11,
   "id": "cf56c252-7d6a-499f-a680-bf8dcd2c8d7f",
   "metadata": {},
   "outputs": [
    {
     "data": {
      "text/plain": [
       "Category\n",
       "False    3882\n",
       "Name: count, dtype: int64"
      ]
     },
     "execution_count": 11,
     "metadata": {},
     "output_type": "execute_result"
    }
   ],
   "source": [
    "df['Category'].isna().value_counts()"
   ]
  },
  {
   "cell_type": "markdown",
   "id": "50a65c71-ff1f-4f6a-83c6-1be7d5942b65",
   "metadata": {},
   "source": [
    "### Their in Not any NAN Value in the data frame "
   ]
  },
  {
   "cell_type": "markdown",
   "id": "8605a17a-59ce-43a3-aea6-c8b739d8d7cf",
   "metadata": {},
   "source": [
    "## Time TO Do Some Visualization Now "
   ]
  },
  {
   "cell_type": "code",
   "execution_count": 14,
   "id": "df28e127-f78c-4b78-8558-ffcf47ec814d",
   "metadata": {},
   "outputs": [
    {
     "data": {
      "text/plain": [
       "Movie\n",
       "Dracula: Dead and Loving It (1995)    1\n",
       "Contender, The (2000)                 1\n",
       "Jumanji (1995)                        1\n",
       "Grumpier Old Men (1995)               1\n",
       "Waiting to Exhale (1995)              1\n",
       "                                     ..\n",
       "Invisible Man, The (1933)             1\n",
       "Killer Shrews, The (1959)             1\n",
       "Kronos (1957)                         1\n",
       "Kronos (1973)                         1\n",
       "Phantom of the Opera, The (1943)      1\n",
       "Name: count, Length: 3882, dtype: int64"
      ]
     },
     "execution_count": 14,
     "metadata": {},
     "output_type": "execute_result"
    }
   ],
   "source": [
    "df['Movie'].value_counts().nlargest(3882)"
   ]
  },
  {
   "cell_type": "code",
   "execution_count": 16,
   "id": "6b951eb8-bd4d-48a9-a41a-84cd7133a2d5",
   "metadata": {},
   "outputs": [],
   "source": [
    "DramaMovie=df['Category'].str.contains('Drama').value_counts()"
   ]
  },
  {
   "cell_type": "code",
   "execution_count": 17,
   "id": "ca8c21fa-ba54-42f7-b16a-5dcfaad1dfa2",
   "metadata": {},
   "outputs": [],
   "source": [
    "ActionMovie=df['Category'].str.contains('Action').value_counts()"
   ]
  },
  {
   "cell_type": "code",
   "execution_count": 18,
   "id": "acd5eede-b1cd-4a7d-a989-5c6824800208",
   "metadata": {},
   "outputs": [],
   "source": [
    "ThrillerMovie=df['Category'].str.contains('Thriller').value_counts()"
   ]
  },
  {
   "cell_type": "code",
   "execution_count": 19,
   "id": "ad862efd-31a7-451b-a0cd-369992840172",
   "metadata": {},
   "outputs": [],
   "source": [
    "ComedyMovie=df['Category'].str.contains('Comedy').value_counts()"
   ]
  },
  {
   "cell_type": "code",
   "execution_count": 20,
   "id": "9f8c5b59-fd69-46ac-8eaf-61bd9be8ffbc",
   "metadata": {},
   "outputs": [],
   "source": [
    "AdventureMovie=df['Category'].str.contains('Adventure').value_counts()"
   ]
  },
  {
   "cell_type": "code",
   "execution_count": 41,
   "id": "0abc35cb-278f-47d7-b081-e4408498218a",
   "metadata": {},
   "outputs": [],
   "source": [
    "FantasyMovie=df['Category'].str.contains('Fantasy').value_counts()"
   ]
  },
  {
   "cell_type": "code",
   "execution_count": 42,
   "id": "85c6e3c6-5b80-4365-9388-ef68965ec92e",
   "metadata": {},
   "outputs": [],
   "source": [
    "RomanceMovie=df['Category'].str.contains('Romance').value_counts()"
   ]
  },
  {
   "cell_type": "code",
   "execution_count": 43,
   "id": "c23de333-859f-4d10-8e0e-e79bfab8d6ed",
   "metadata": {},
   "outputs": [],
   "source": [
    "countMovie=df.count()['Movie']"
   ]
  },
  {
   "cell_type": "code",
   "execution_count": 44,
   "id": "25f5d32a-7a81-4ee8-a4a6-cb3c698ba91b",
   "metadata": {},
   "outputs": [
    {
     "name": "stderr",
     "output_type": "stream",
     "text": [
      "C:\\Users\\Rahul\\AppData\\Local\\Temp\\ipykernel_16468\\4260213661.py:1: FutureWarning: Series.__getitem__ treating keys as positions is deprecated. In a future version, integer keys will always be treated as labels (consistent with DataFrame behavior). To access a value by position, use `ser.iloc[pos]`\n",
      "  Movielist=[DramaMovie[1],ActionMovie[1],ThrillerMovie[1],ComedyMovie[1],AdventureMovie[1],FantasyMovie[1],RomanceMovie[1]]\n"
     ]
    }
   ],
   "source": [
    "Movielist=[DramaMovie[1],ActionMovie[1],ThrillerMovie[1],ComedyMovie[1],AdventureMovie[1],FantasyMovie[1],RomanceMovie[1]]"
   ]
  },
  {
   "cell_type": "code",
   "execution_count": 56,
   "id": "fcd39ef0-cc36-477e-9c79-9ecf967fbc38",
   "metadata": {},
   "outputs": [
    {
     "data": {
      "text/plain": [
       "<matplotlib.collections.PathCollection at 0x151d4dbad80>"
      ]
     },
     "execution_count": 56,
     "metadata": {},
     "output_type": "execute_result"
    },
    {
     "data": {
      "image/png": "[encoded data removed]",
      "text/plain": [
       "<Figure size 640x480 with 1 Axes>"
      ]
     },
     "metadata": {},
     "output_type": "display_data"
    }
   ],
   "source": [
    "plt.scatter(Movielist,[554,1108,1662,2216,2770,3324,3882],s=100,alpha=0.7,edgecolors='black')"
   ]
  },
  {
   "cell_type": "code",
   "execution_count": 40,
   "id": "96aa3764-97cb-4ae5-828e-2f966ceb4907",
   "metadata": {},
   "outputs": [
    {
     "data": {
      "text/plain": [
       "Category\n",
       "False    3882\n",
       "Name: count, dtype: int64"
      ]
     },
     "execution_count": 40,
     "metadata": {},
     "output_type": "execute_result"
    }
   ],
   "source": [
    "FantasyMovie"
   ]
  },
  {
   "cell_type": "code",
   "execution_count": 54,
   "id": "117bb754-128a-4dcb-b5ea-c3a8bac63db3",
   "metadata": {},
   "outputs": [
    {
     "data": {
      "text/plain": [
       "np.int64(3882)"
      ]
     },
     "execution_count": 54,
     "metadata": {},
     "output_type": "execute_result"
    }
   ],
   "source": [
    "countMovie\n",
    "\n",
    "\n"
   ]
  },
  {
   "cell_type": "code",
   "execution_count": null,
   "id": "00a654bf-23f5-4b56-b5c3-ff9f4ce88153",
   "metadata": {},
   "outputs": [],
   "source": []
  }
 ],
 "metadata": {
  "kernelspec": {
   "display_name": "Python 3 (ipykernel)",
   "language": "python",
   "name": "python3"
  },
  "language_info": {
   "codemirror_mode": {
    "name": "ipython",
    "version": 3
   },
   "file_extension": ".py",
   "mimetype": "text/x-python",
   "name": "python",
   "nbconvert_exporter": "python",
   "pygments_lexer": "ipython3",
   "version": "3.12.5"
  }
 },
 "nbformat": 4,
 "nbformat_minor": 5
}
